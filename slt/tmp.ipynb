{
 "cells": [
  {
   "cell_type": "code",
   "execution_count": 1,
   "id": "8c51759e",
   "metadata": {},
   "outputs": [],
   "source": [
    "import pickle\n",
    "import gzip"
   ]
  },
  {
   "cell_type": "code",
   "execution_count": 2,
   "id": "317a8cb0",
   "metadata": {},
   "outputs": [],
   "source": [
    "def load_dataset_file(filename):\n",
    "    with gzip.open(filename, \"rb\") as f:\n",
    "        loaded_object = pickle.load(f)\n",
    "        return loaded_object\n",
    "\n",
    "# Customed\n",
    "def load_pickle_file(filename):\n",
    "    with open(filename, 'rb') as f:\n",
    "        loaded_object = pickle.load(f)\n",
    "        return loaded_object"
   ]
  },
  {
   "cell_type": "code",
   "execution_count": 3,
   "id": "e579991d",
   "metadata": {},
   "outputs": [],
   "source": [
    "source = load_dataset_file('/nas1/yjun/slt/slt/data/PHOENIX2014T/phoenix14t.pami0.train')"
   ]
  },
  {
   "cell_type": "code",
   "execution_count": 4,
   "id": "3496b53c",
   "metadata": {},
   "outputs": [],
   "source": [
    "custom = load_pickle_file('/nas1/yjun/slt/slt/data/2DCNN_notnorm/train.pkl')"
   ]
  },
  {
   "cell_type": "code",
   "execution_count": null,
   "id": "278b4cdf",
   "metadata": {},
   "outputs": [],
   "source": []
  },
  {
   "cell_type": "code",
   "execution_count": 1,
   "id": "d97a0fbf",
   "metadata": {},
   "outputs": [],
   "source": [
    "import numpy as np"
   ]
  },
  {
   "cell_type": "code",
   "execution_count": null,
   "id": "62f26c05",
   "metadata": {},
   "outputs": [],
   "source": [
    "data = np.load('/nas1/yjun/slt/bvlc_alexnet.npy', allow_pickle=True)"
   ]
  },
  {
   "cell_type": "code",
   "execution_count": null,
   "id": "6599f536",
   "metadata": {},
   "outputs": [],
   "source": []
  }
 ],
 "metadata": {
  "kernelspec": {
   "display_name": "Python 3",
   "language": "python",
   "name": "python3"
  },
  "language_info": {
   "codemirror_mode": {
    "name": "ipython",
    "version": 3
   },
   "file_extension": ".py",
   "mimetype": "text/x-python",
   "name": "python",
   "nbconvert_exporter": "python",
   "pygments_lexer": "ipython3",
   "version": "3.6.13"
  }
 },
 "nbformat": 4,
 "nbformat_minor": 5
}
